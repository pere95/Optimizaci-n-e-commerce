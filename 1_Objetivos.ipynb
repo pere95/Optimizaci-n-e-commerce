{
 "cells": [
  {
   "cell_type": "markdown",
   "id": "f76f777f-262c-419e-95d7-20fea2608f33",
   "metadata": {},
   "source": [
    "# 1. Diseño proyecto"
   ]
  },
  {
   "cell_type": "markdown",
   "id": "0c6b71c9-996e-48b0-9b46-21ccce9575f4",
   "metadata": {},
   "source": [
    "En este proyecto voy a ser consultor para un ecommerce del sector cosméticos.\n",
    "\n",
    "Esta empresa ha teniendo una evolución plana durante los últimos meses y nos ha contratado para analizar sus datos transaccionales e implementar acciones CRO personalizadas a su situación en base a dicho análisis.\n"
   ]
  },
  {
   "cell_type": "markdown",
   "id": "4822c230-0079-4846-8625-c477889a874a",
   "metadata": {},
   "source": [
    "# 2. Objetivos"
   ]
  },
  {
   "cell_type": "markdown",
   "id": "b81b3e25-dcf2-49aa-9863-df7e40e6eaf2",
   "metadata": {},
   "source": [
    "Analizar los datos transaccionales para intentar potenciales acciones CRO que incrementen visitas, conversiones y ticket medio, y por tanto incrementar la facturación global del ecommerce.\r\n",
    "\r\n",
    "Crear activos analíticos avanzados como una segmentación RFM y un sistema de recomendación que impulsen la consecución del objetivo."
   ]
  },
  {
   "cell_type": "markdown",
   "id": "e0f530e1-8f36-4a14-9337-abafe535c02e",
   "metadata": {},
   "source": [
    "# 3. Palancas"
   ]
  },
  {
   "cell_type": "markdown",
   "id": "2064c8f7-5e8a-419b-93fa-24d281f450aa",
   "metadata": {},
   "source": [
    "El primer paso es cuando un usuario llega a la web del ecommerce. Normalmente vendrá desde:\n",
    "\n",
    "* Campañas de pago: paid ads como Facebook Ads o Google Ads\n",
    "* Contenido orgánico: blog, rrss, ...\n",
    "* Tráfico directo: conoce la url y la introduce en el navegador\n",
    "\n",
    "Ese tráfico se llama visitas, y las páginas que van viendo se llaman páginas vistas, aunque en nuestro caso lo llamaremos views.\n",
    "\n",
    "El usuario navega por la web y cuando le gusta un producto lo mete en el carrito.\n",
    "\n",
    "Finalmente puede sacar productos del carrito, salir sin comprar nada, o finalmente hacer el pedido.\n",
    "\n",
    "Un proceso común es la venta cruzada, en la cual se recomiendan al usuario otros productos que también podrían interesarle.\n",
    "\n",
    "Incluso cuando se ha ido podemos volver a contartar al usuario mediante retargeting o email marketing.\n",
    "\n",
    "Todo este proceso se llama funnel o también customer journey.\n",
    "\n",
    "En el entorno online prácticamente todo se puede registrar. \n",
    "\n",
    "El registro del usuario puede ser logado o no.\n",
    "\n",
    "La secuencia de acciones que hace un usuario en la misma sesión de navegación se llama sesión.\n",
    "\n",
    "El ratio de compras sobre las visitas se llama ratio de conversión.\n",
    "\n",
    "Además existen otras métricas clave que tenemos que dominar para gestionar correctamente un ecommerce:\n",
    "\n",
    "* CPA\n",
    "* AOV\n",
    "* Frecuencia de compra\n",
    "* LTV\n",
    "* Churn\n",
    "\n",
    "CONCEPTO CLAVE: Solo existen 3 formas de incrementar un negocio:\n",
    "\n",
    "1. Más clientes: esto implica conseguir más visitas y mayor conversión\n",
    "2. Más frecuencia: esto implica conseguir que los mismos clientes compren más veces\n",
    "3. Mayor ticket medio: esto implica conseguir que se compre más o más caro en la misma sesión de compra\n",
    "\n",
    "Para conseguir esos 3 efectos trabajamos sobre las siguientes palancas operativas:\n",
    "\n",
    "* Customer journey: cómo podemos optimizar cada uno de los pasos del proceso\n",
    "* Clientes: cómo podemos usar la info disponible de los clientes para optimizar las campañas que realicemos\n",
    "* Productos: cómo podemos optimizar el catálogo de productos e identificar de manera personalizada qué productos tenemos que poner delante de cada cliente\n",
    "\n",
    "Entenderemos en nuestro caso CRO de manera amplia, es decir como la disciplina que pone en práctica acciones para trabajar sobre las palancas y conceptos anteriores."
   ]
  },
  {
   "cell_type": "markdown",
   "id": "5aa51b4a-929d-4b3e-a163-603633e33326",
   "metadata": {},
   "source": [
    "# 4. KPIs"
   ]
  },
  {
   "cell_type": "markdown",
   "id": "dfe8f801-1603-4545-bd71-4993fcbf8162",
   "metadata": {},
   "source": [
    "* Visitas\n",
    "* Conversión\n",
    "* Frecuencia de compra\n",
    "* Ticket medio\n",
    "* Tasa abandono carrito\n",
    "* LTV"
   ]
  },
  {
   "cell_type": "markdown",
   "id": "e789c125-5a69-496d-ae45-21e793dd6871",
   "metadata": {},
   "source": [
    "# 5.ENTIDADES Y DATOS"
   ]
  },
  {
   "cell_type": "markdown",
   "id": "830222cc-b96c-4e2f-9fd4-11eaa9368d63",
   "metadata": {},
   "source": [
    "En nuestro caso las entidades que tenemos en la granularidad de los datos son:\n",
    "    \n",
    "* Usuarios\n",
    "* Clientes\n",
    "* Sesiones\n",
    "* Eventos\n",
    "* Productos"
   ]
  },
  {
   "cell_type": "code",
   "execution_count": null,
   "id": "e3f6dc27-7893-40aa-9cba-7dff3dfab34f",
   "metadata": {},
   "outputs": [],
   "source": []
  }
 ],
 "metadata": {
  "kernelspec": {
   "display_name": "Python 3 (ipykernel)",
   "language": "python",
   "name": "python3"
  },
  "language_info": {
   "codemirror_mode": {
    "name": "ipython",
    "version": 3
   },
   "file_extension": ".py",
   "mimetype": "text/x-python",
   "name": "python",
   "nbconvert_exporter": "python",
   "pygments_lexer": "ipython3",
   "version": "3.12.2"
  },
  "widgets": {
   "application/vnd.jupyter.widget-state+json": {
    "state": {},
    "version_major": 2,
    "version_minor": 0
   }
  }
 },
 "nbformat": 4,
 "nbformat_minor": 5
}
